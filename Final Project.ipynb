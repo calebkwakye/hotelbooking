{
 "cells": [
  {
   "cell_type": "code",
   "execution_count": null,
   "id": "7f913939-d31e-4e5f-8868-1ba8f5825cfb",
   "metadata": {},
   "outputs": [],
   "source": [
    "#import packages\n",
    "import pandas as pd\n",
    "import plotly.express as px\n",
    "import folium\n",
    "from folium import plugins"
   ]
  },
  {
   "cell_type": "code",
   "execution_count": null,
   "id": "3fe134b1-57d3-401d-939f-b9ecd541c055",
   "metadata": {},
   "outputs": [],
   "source": [
    "#load the dataframe\n",
    "df = pd.read_csv(\"HotelReview.txt\")\n",
    "\n",
    "#make the plot and set style preferences\n",
    "fig = px.line(df, x = \"Year\", y = \"Average rating out of 10\", color = \"Category\", template = \"plotly\", range_x = [2012, 2022], title = \"Yearly Customer Satisfaction Ratings 2012-2022\")\n",
    "fig.update_traces(visible='legendonly')\n",
    "fig.update_layout(hovermode=\"x unified\")\n",
    "fig.update_layout(title_text='Yearly Customer Satisfaction Ratings 2012-2022', title_x=0.5)\n",
    "\n",
    "#save the plot as an html\n",
    "fig.write_html(\"hotel satisfaction.html\")"
   ]
  },
  {
   "cell_type": "code",
   "execution_count": null,
   "id": "f2a48f0c-d62d-45a9-a7f3-8f3b8cbd7fca",
   "metadata": {},
   "outputs": [],
   "source": [
    "#Creates a map of our hotel\n",
    "m = folium.Map(tiles = 'Stamen Terrain', location = [36.8516,-75.9792], zoom_start = 14)\n",
    "folium.Marker(location = [36.8516,-75.9792], popup = 'SpiderHub', tooltip = 'SpiderHub').add_to(m)\n",
    "m.save(\"hotel_map.html\")"
   ]
  },
  {
   "cell_type": "code",
   "execution_count": null,
   "id": "69ec735f-7769-4db2-9283-b60f06fd6a70",
   "metadata": {},
   "outputs": [],
   "source": [
    "#importjson\n",
    "import json\n",
    "\n",
    "#open the file\n",
    "fileObject = open(\"review.txt\", 'r')\n",
    "\n",
    "#set the count equal to 0\n",
    "count=0\n",
    "\n",
    "#start a loop\n",
    "for theline in fileObject:\n",
    "    \n",
    "    #assign the first line of the file to a variable\n",
    "    firstLine = fileObject.readline()\n",
    "    \n",
    "    #read the data using a json command\n",
    "    data = json.loads(firstLine)\n",
    "    \n",
    "    #display that text for the user\n",
    "    print(data[\"text\"])\n",
    "    print()\n",
    "    \n",
    "    #instruct the loop to stop after 3 iterations\n",
    "    count=count+1\n",
    "    if(count==3):\n",
    "        break\n",
    "        \n",
    "#close the file\n",
    "fileObject.close()"
   ]
  },
  {
   "cell_type": "code",
   "execution_count": null,
   "id": "179f2135-092c-4101-a535-1e568fef11b7",
   "metadata": {},
   "outputs": [],
   "source": []
  },
  {
   "cell_type": "code",
   "execution_count": null,
   "id": "2162ad19-1c4a-4eb1-b3e2-07b4e29557b1",
   "metadata": {},
   "outputs": [],
   "source": []
  },
  {
   "cell_type": "code",
   "execution_count": null,
   "id": "77e832ee-7be8-4bc2-8d41-b6266f869481",
   "metadata": {},
   "outputs": [],
   "source": []
  },
  {
   "cell_type": "code",
   "execution_count": null,
   "id": "01717ef3-71e5-4584-beca-ea5475e23add",
   "metadata": {},
   "outputs": [],
   "source": []
  }
 ],
 "metadata": {
  "kernelspec": {
   "display_name": "Python 3.9.12 ('base')",
   "language": "python",
   "name": "python3"
  },
  "language_info": {
   "codemirror_mode": {
    "name": "ipython",
    "version": 3
   },
   "file_extension": ".py",
   "mimetype": "text/x-python",
   "name": "python",
   "nbconvert_exporter": "python",
   "pygments_lexer": "ipython3",
   "version": "3.9.12"
  },
  "vscode": {
   "interpreter": {
    "hash": "00219fa7a441643824cf1f85e91cd9dbaabff299659c222295ad099a8846c759"
   }
  }
 },
 "nbformat": 4,
 "nbformat_minor": 5
}
